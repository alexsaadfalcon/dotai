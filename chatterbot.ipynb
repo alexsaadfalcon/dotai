{
 "cells": [
  {
   "cell_type": "markdown",
   "metadata": {},
   "source": [
    "## build chatbot suing chatterbot package\n",
    "https://chatterbot.readthedocs.io/en/stable/examples.html"
   ]
  },
  {
   "cell_type": "code",
   "execution_count": null,
   "metadata": {},
   "outputs": [],
   "source": [
    "from chatterbot import ChatBot\n",
    "from chatterbot.trainers import ListTrainer"
   ]
  },
  {
   "cell_type": "code",
   "execution_count": null,
   "metadata": {},
   "outputs": [],
   "source": [
    "# create the chat bot\n",
    "chatbot = ChatBot('dotai', read_only=True)\n",
    "#chatbot.storage.drop()"
   ]
  },
  {
   "cell_type": "code",
   "execution_count": null,
   "metadata": {},
   "outputs": [],
   "source": [
    "# load data and preprocessing\n",
    "import csv\n",
    "import random\n",
    "# read in raw data\n",
    "with open('../data/clean_withid_noblanks_part2.csv') as csvfile:\n",
    "    readCSV = csv.reader(csvfile, delimiter=',')\n",
    "    raw_all = []\n",
    "    match_all = []\n",
    "    time_all = []\n",
    "    slot_all = []\n",
    "    for row in readCSV:\n",
    "        match_all.append(row[0])\n",
    "        time_all.append(row[1])\n",
    "        slot_all.append(row[2])\n",
    "        raw_all.append(row[3])\n",
    "print(len(raw_all))\n",
    "#raw = random.choices(raw_all,k = 10000)\n",
    "raw = raw_all[:10000]\n",
    "tt = time_all[:10000]\n",
    "slot = slot_all[:10000]\n",
    "match = match_all[:10000]"
   ]
  },
  {
   "cell_type": "code",
   "execution_count": null,
   "metadata": {},
   "outputs": [],
   "source": [
    "# train the bot\n",
    "trainer = ListTrainer(chatbot)\n",
    "Nrec = len(raw)\n",
    "rec = 0\n",
    "dt = 10.\n",
    "while rec < Nrec-1:\n",
    "    if match[rec+1] == match[rec] and float(tt[rec+1]) < float(tt[rec])+dt:\n",
    "        print(['Found conversation at rec: ',rec])\n",
    "        conversation = raw[rec:rec+1]\n",
    "        rec = rec+2\n",
    "        while rec < Nrec and match[rec+1] == match[rec] and float(tt[rec+1]) < float(tt[rec])+dt:\n",
    "            conversation.append(raw[rec])\n",
    "            rec = rec+1\n",
    "        print(['with ',len(conversation),' lines'])\n",
    "        trainer.train(conversation)\n",
    "    else:\n",
    "        rec = rec + 1\n",
    "            "
   ]
  },
  {
   "cell_type": "code",
   "execution_count": 2,
   "metadata": {},
   "outputs": [
    {
     "data": {
      "text/plain": [
       "2"
      ]
     },
     "execution_count": 2,
     "metadata": {},
     "output_type": "execute_result"
    }
   ],
   "source": [
    "#import levenshtein\n",
    "from Levenshtein import distance\n",
    "class Censor():\n",
    "    def __init__(self, fname='.BADWORDS'):\n",
    "        self.fname = fname\n",
    "        self.bads = []\n",
    "        with open(fname) as f:\n",
    "            for line in f:\n",
    "                self.bads.append(line.strip('\\n'))\n",
    "        \n",
    "    def _close(self, bad, word):\n",
    "        return distance(bad, word) < 2\n",
    "    \n",
    "    def __call__(self, line):\n",
    "        line = str(line)\n",
    "        for word in line.split():\n",
    "            for bad in self.bads:\n",
    "                if bad in word or self._close(bad, word):\n",
    "                    # print(word, 'triggered', bad)\n",
    "                    line = line.replace(word, '*' * len(word))\n",
    "                    break\n",
    "        return line\n",
    "        \n",
    "distance('test', 'tst')\n",
    "distance('test', 'taste')"
   ]
  },
  {
   "cell_type": "code",
   "execution_count": null,
   "metadata": {},
   "outputs": [
    {
     "name": "stderr",
     "output_type": "stream",
     "text": [
      "[nltk_data] Downloading package averaged_perceptron_tagger to\n",
      "[nltk_data]     /Users/asf3-gtri/nltk_data...\n",
      "[nltk_data]   Package averaged_perceptron_tagger is already up-to-\n",
      "[nltk_data]       date!\n",
      "[nltk_data] Downloading package stopwords to\n",
      "[nltk_data]     /Users/asf3-gtri/nltk_data...\n",
      "[nltk_data]   Package stopwords is already up-to-date!\n"
     ]
    },
    {
     "name": "stdout",
     "output_type": "stream",
     "text": [
      "Start testing! If you want to exit, type exit\n",
      "test\n",
      "dotai: muted noob\n",
      "hello\n",
      "dotai: wake up\n",
      "hf\n",
      "dotai: shutup nerd\n",
      "no\n",
      "dotai: Xd\n",
      "no\n",
      "dotai: Xd\n",
      "noob\n",
      "dotai: Lol\n",
      "n00b\n",
      "dotai: rofl\n",
      "n00b\n",
      "dotai: hah\n",
      "n00b\n",
      "dotai: q meu pudge\n",
      "n00b\n",
      "dotai: Xd gyro\n",
      "n00b\n",
      "dotai: ggwp\n",
      "n00b\n",
      "dotai: ya pomnu\n",
      "n00b\n",
      "dotai: lol\n",
      "interesting\n",
      "dotai: ***\n",
      "how are you\n",
      "dotai: command me\n",
      "ok\n",
      "dotai: U useless anyways\n",
      "go mid\n",
      "dotai: LOL\n",
      "go mid\n",
      "dotai: ne delaet\n",
      "go mid\n",
      "dotai: ggw\n",
      "go top\n",
      "dotai: gg\n",
      "jungle is bad\n",
      "dotai: ***\n",
      "bad\n",
      "dotai: report mk more ****\n",
      "lol\n",
      "dotai: COMMEND ME TY\n",
      "LOL\n",
      "dotai: COMMEND ME TY\n",
      "lolol\n",
      "dotai: GGWP\n",
      "lololol\n",
      "dotai: REVENGE\n"
     ]
    }
   ],
   "source": [
    "# test\n",
    "from chatterbot import ChatBot\n",
    "censor = Censor()\n",
    "chatbot = ChatBot('dotai', read_only=True)\n",
    "flag=True\n",
    "print(\"Start testing! If you want to exit, type exit\")\n",
    "while(flag==True):\n",
    "    user_response = input()\n",
    "    user_response=user_response.lower()\n",
    "    if(user_response!='exit'):\n",
    "        print(\"dotai: \",end=\"\")\n",
    "        print(censor(chatbot.get_response(user_response)))\n",
    "    else:\n",
    "        flag=False\n",
    "        print(\"Test stopped\")"
   ]
  },
  {
   "cell_type": "code",
   "execution_count": null,
   "metadata": {},
   "outputs": [],
   "source": []
  }
 ],
 "metadata": {
  "kernelspec": {
   "display_name": "Python 3",
   "language": "python",
   "name": "python3"
  },
  "language_info": {
   "codemirror_mode": {
    "name": "ipython",
    "version": 3
   },
   "file_extension": ".py",
   "mimetype": "text/x-python",
   "name": "python",
   "nbconvert_exporter": "python",
   "pygments_lexer": "ipython3",
   "version": "3.7.0"
  }
 },
 "nbformat": 4,
 "nbformat_minor": 2
}
