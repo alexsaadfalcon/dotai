{
 "cells": [
  {
   "cell_type": "markdown",
   "metadata": {},
   "source": [
    "## build chatbot suing chatterbot package\n",
    "https://chatterbot.readthedocs.io/en/stable/examples.html"
   ]
  },
  {
   "cell_type": "code",
   "execution_count": null,
   "metadata": {
    "collapsed": true
   },
   "outputs": [],
   "source": [
    "from chatterbot import ChatBot\n",
    "from chatterbot.trainers import ListTrainer"
   ]
  },
  {
   "cell_type": "code",
   "execution_count": null,
   "metadata": {
    "collapsed": true
   },
   "outputs": [],
   "source": [
    "# create the chat bot\n",
    "chatbot = ChatBot('dotai', read_only=True)\n",
    "#chatbot.storage.drop() # train the model again from scratch"
   ]
  },
  {
   "cell_type": "code",
   "execution_count": null,
   "metadata": {
    "collapsed": true
   },
   "outputs": [],
   "source": [
    "# load data and preprocessing\n",
    "import csv\n",
    "import random\n",
    "# read in raw data\n",
    "with open('../data/clean_withid_noblanks_part2.csv') as csvfile:\n",
    "    readCSV = csv.reader(csvfile, delimiter=',')\n",
    "    raw_all = []\n",
    "    match_all = []\n",
    "    time_all = []\n",
    "    slot_all = []\n",
    "    for row in readCSV:\n",
    "        match_all.append(row[0])\n",
    "        time_all.append(row[1])\n",
    "        slot_all.append(row[2])\n",
    "        raw_all.append(row[3])\n",
    "print(len(raw_all))\n",
    "#raw = random.choices(raw_all,k = 10000)\n",
    "raw = raw_all[:10000]\n",
    "tt = time_all[:10000]\n",
    "slot = slot_all[:10000]\n",
    "match = match_all[:10000]"
   ]
  },
  {
   "cell_type": "code",
   "execution_count": null,
   "metadata": {
    "collapsed": true
   },
   "outputs": [],
   "source": [
    "# train the bot\n",
    "trainer = ListTrainer(chatbot)\n",
    "Nrec = len(raw)\n",
    "rec = 0\n",
    "dt = 10.\n",
    "while rec < Nrec-1:\n",
    "    if match[rec+1] == match[rec] and float(tt[rec+1]) < float(tt[rec])+dt:\n",
    "        print(['Found conversation at rec: ',rec])\n",
    "        conversation = raw[rec:rec+1]\n",
    "        rec = rec+2\n",
    "        while rec < Nrec and match[rec+1] == match[rec] and float(tt[rec+1]) < float(tt[rec])+dt:\n",
    "            conversation.append(raw[rec])\n",
    "            rec = rec+1\n",
    "        print(['with ',len(conversation),' lines'])\n",
    "        trainer.train(conversation)\n",
    "    else:\n",
    "        rec = rec + 1\n",
    "            "
   ]
  },
  {
   "cell_type": "code",
   "execution_count": null,
   "metadata": {},
   "outputs": [],
   "source": [
    "#import levenshtein\n",
    "from Levenshtein import distance\n",
    "class Censor():\n",
    "    def __init__(self, fname='.BADWORDS'):\n",
    "        self.fname = fname\n",
    "        self.bads = []\n",
    "        with open(fname) as f:\n",
    "            for line in f:\n",
    "                self.bads.append(line.strip('\\n'))\n",
    "        \n",
    "    def _close(self, bad, word):\n",
    "        return distance(bad, word) < 2\n",
    "    \n",
    "    def __call__(self, line):\n",
    "        line = str(line)\n",
    "        for word in line.split():\n",
    "            for bad in self.bads:\n",
    "                if bad in word or self._close(bad, word):\n",
    "                    # print(word, 'triggered', bad)\n",
    "                    line = line.replace(word, '*' * len(word))\n",
    "                    break\n",
    "        return line\n",
    "        \n",
    "distance('test', 'tst')\n",
    "distance('test', 'taste')"
   ]
  },
  {
   "cell_type": "code",
   "execution_count": null,
   "metadata": {},
   "outputs": [],
   "source": [
    "# test\n",
    "from chatterbot import ChatBot\n",
    "censor = Censor()\n",
    "chatbot = ChatBot('dotai', read_only=True)\n",
    "flag=True\n",
    "print(\"Start testing! If you want to exit, type exit\")\n",
    "while(flag==True):\n",
    "    user_response = input()\n",
    "    user_response=user_response.lower()\n",
    "    if(user_response!='exit'):\n",
    "        print(\"dotai: \",end=\"\")\n",
    "        print(censor(chatbot.get_response(user_response)))\n",
    "    else:\n",
    "        flag=False\n",
    "        print(\"Test stopped\")"
   ]
  },
  {
   "cell_type": "code",
   "execution_count": null,
   "metadata": {
    "collapsed": true
   },
   "outputs": [],
   "source": []
  }
 ],
 "metadata": {
  "kernelspec": {
   "display_name": "Python 3",
   "language": "python",
   "name": "python3"
  },
  "language_info": {
   "codemirror_mode": {
    "name": "ipython",
    "version": 3
   },
   "file_extension": ".py",
   "mimetype": "text/x-python",
   "name": "python",
   "nbconvert_exporter": "python",
   "pygments_lexer": "ipython3",
   "version": "3.6.8"
  }
 },
 "nbformat": 4,
 "nbformat_minor": 2
}
